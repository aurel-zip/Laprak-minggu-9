{
  "nbformat": 4,
  "nbformat_minor": 0,
  "metadata": {
    "colab": {
      "provenance": []
    },
    "kernelspec": {
      "name": "python3",
      "display_name": "Python 3"
    },
    "language_info": {
      "name": "python"
    }
  },
  "cells": [
    {
      "cell_type": "code",
      "source": [
        "biodata = {\n",
        "    'Nama': 'Salwa Aurelia',\n",
        "    'Kelas': 'Rombel 3',\n",
        "    'Tanggal lahir': '16 Agustus 2006',\n",
        "    'No hp': '082326962692',\n",
        "    'Alamat': 'Wates, Magelang Utara',\n",
        "    'Hobi': ['Nge-fangirl', 'Mendesain digital', 'Main game']\n",
        "}\n",
        "\n",
        "for key, value in biodata.items():\n",
        "    if isinstance(value, list):\n",
        "        print(f\"{key}:\")\n",
        "        for index, hobi in enumerate(value, start=1):\n",
        "            print(f\"{index}. {hobi}\")\n",
        "    else:\n",
        "        print(f\"{key}: {value}\")"
      ],
      "metadata": {
        "colab": {
          "base_uri": "https://localhost:8080/"
        },
        "id": "vVrdoThgDiV4",
        "outputId": "19425a32-2642-44e7-f56f-c874ad5f5292"
      },
      "execution_count": 1,
      "outputs": [
        {
          "output_type": "stream",
          "name": "stdout",
          "text": [
            "Nama: Salwa Aurelia\n",
            "Kelas: Rombel 3\n",
            "Tanggal lahir: 16 Agustus 2006\n",
            "No hp: 082326962692\n",
            "Alamat: Wates, Magelang Utara\n",
            "Hobi:\n",
            "1. Nge-fangirl\n",
            "2. Mendesain digital\n",
            "3. Main game\n"
          ]
        }
      ]
    },
    {
      "cell_type": "markdown",
      "source": [],
      "metadata": {
        "id": "oFE0U3QkJq8X"
      }
    }
  ]
}